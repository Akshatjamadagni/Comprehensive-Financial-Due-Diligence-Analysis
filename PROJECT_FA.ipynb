{
 "cells": [
  {
   "cell_type": "markdown",
   "id": "997a7444",
   "metadata": {},
   "source": [
    "# Comprehensive Financial Due Diligence Analysis - Tech Stock Portfolio"
   ]
  },
  {
   "cell_type": "markdown",
   "id": "eaf57cc9",
   "metadata": {},
   "source": [
    "imports and helper functions"
   ]
  },
  {
   "cell_type": "code",
   "execution_count": 2,
   "id": "3c1eef23",
   "metadata": {},
   "outputs": [
    {
     "name": "stdout",
     "output_type": "stream",
     "text": [
      "Collecting yfinance\n",
      "  Downloading yfinance-0.2.65-py2.py3-none-any.whl.metadata (5.8 kB)\n",
      "Requirement already satisfied: pandas>=1.3.0 in c:\\users\\amitk\\appdata\\local\\programs\\python\\python311\\lib\\site-packages (from yfinance) (2.3.1)\n",
      "Requirement already satisfied: numpy>=1.16.5 in c:\\users\\amitk\\appdata\\local\\programs\\python\\python311\\lib\\site-packages (from yfinance) (1.26.4)\n",
      "Requirement already satisfied: requests>=2.31 in c:\\users\\amitk\\appdata\\local\\programs\\python\\python311\\lib\\site-packages (from yfinance) (2.32.3)\n",
      "Collecting multitasking>=0.0.7 (from yfinance)\n",
      "  Downloading multitasking-0.0.12.tar.gz (19 kB)\n",
      "  Preparing metadata (setup.py): started\n",
      "  Preparing metadata (setup.py): finished with status 'done'\n",
      "Requirement already satisfied: platformdirs>=2.0.0 in c:\\users\\amitk\\appdata\\roaming\\python\\python311\\site-packages (from yfinance) (3.10.0)\n",
      "Requirement already satisfied: pytz>=2022.5 in c:\\users\\amitk\\appdata\\local\\programs\\python\\python311\\lib\\site-packages (from yfinance) (2023.3)\n",
      "Collecting frozendict>=2.3.4 (from yfinance)\n",
      "  Downloading frozendict-2.4.6-py311-none-any.whl.metadata (23 kB)\n",
      "Collecting peewee>=3.16.2 (from yfinance)\n",
      "  Downloading peewee-3.18.2.tar.gz (949 kB)\n",
      "     ---------------------------------------- 0.0/949.2 kB ? eta -:--:--\n",
      "     ---------------------------------------- 0.0/949.2 kB ? eta -:--:--\n",
      "     -------------------- ----------------- 524.3/949.2 kB 1.9 MB/s eta 0:00:01\n",
      "     -------------------------------------- 949.2/949.2 kB 2.2 MB/s eta 0:00:00\n",
      "  Installing build dependencies: started\n",
      "  Installing build dependencies: finished with status 'done'\n",
      "  Getting requirements to build wheel: started\n",
      "  Getting requirements to build wheel: finished with status 'done'\n",
      "  Preparing metadata (pyproject.toml): started\n",
      "  Preparing metadata (pyproject.toml): finished with status 'done'\n",
      "Requirement already satisfied: beautifulsoup4>=4.11.1 in c:\\users\\amitk\\appdata\\local\\programs\\python\\python311\\lib\\site-packages (from yfinance) (4.12.2)\n",
      "Collecting curl_cffi>=0.7 (from yfinance)\n",
      "  Downloading curl_cffi-0.13.0-cp39-abi3-win_amd64.whl.metadata (13 kB)\n",
      "Requirement already satisfied: protobuf>=3.19.0 in c:\\users\\amitk\\appdata\\local\\programs\\python\\python311\\lib\\site-packages (from yfinance) (5.29.5)\n",
      "Requirement already satisfied: websockets>=13.0 in c:\\users\\amitk\\appdata\\local\\programs\\python\\python311\\lib\\site-packages (from yfinance) (15.0.1)\n",
      "Requirement already satisfied: soupsieve>1.2 in c:\\users\\amitk\\appdata\\local\\programs\\python\\python311\\lib\\site-packages (from beautifulsoup4>=4.11.1->yfinance) (2.5)\n",
      "Requirement already satisfied: cffi>=1.12.0 in c:\\users\\amitk\\appdata\\local\\programs\\python\\python311\\lib\\site-packages (from curl_cffi>=0.7->yfinance) (1.15.1)\n",
      "Collecting certifi>=2024.2.2 (from curl_cffi>=0.7->yfinance)\n",
      "  Downloading certifi-2025.8.3-py3-none-any.whl.metadata (2.4 kB)\n",
      "Requirement already satisfied: pycparser in c:\\users\\amitk\\appdata\\local\\programs\\python\\python311\\lib\\site-packages (from cffi>=1.12.0->curl_cffi>=0.7->yfinance) (2.21)\n",
      "Requirement already satisfied: python-dateutil>=2.8.2 in c:\\users\\amitk\\appdata\\local\\programs\\python\\python311\\lib\\site-packages (from pandas>=1.3.0->yfinance) (2.8.2)\n",
      "Requirement already satisfied: tzdata>=2022.7 in c:\\users\\amitk\\appdata\\local\\programs\\python\\python311\\lib\\site-packages (from pandas>=1.3.0->yfinance) (2023.3)\n",
      "Requirement already satisfied: six>=1.5 in c:\\users\\amitk\\appdata\\local\\programs\\python\\python311\\lib\\site-packages (from python-dateutil>=2.8.2->pandas>=1.3.0->yfinance) (1.16.0)\n",
      "Requirement already satisfied: charset-normalizer<4,>=2 in c:\\users\\amitk\\appdata\\local\\programs\\python\\python311\\lib\\site-packages (from requests>=2.31->yfinance) (3.2.0)\n",
      "Requirement already satisfied: idna<4,>=2.5 in c:\\users\\amitk\\appdata\\local\\programs\\python\\python311\\lib\\site-packages (from requests>=2.31->yfinance) (3.4)\n",
      "Requirement already satisfied: urllib3<3,>=1.21.1 in c:\\users\\amitk\\appdata\\local\\programs\\python\\python311\\lib\\site-packages (from requests>=2.31->yfinance) (2.0.4)\n",
      "Downloading yfinance-0.2.65-py2.py3-none-any.whl (119 kB)\n",
      "Downloading curl_cffi-0.13.0-cp39-abi3-win_amd64.whl (1.6 MB)\n",
      "   ---------------------------------------- 0.0/1.6 MB ? eta -:--:--\n",
      "   ------ --------------------------------- 0.3/1.6 MB ? eta -:--:--\n",
      "   ------------------- -------------------- 0.8/1.6 MB 2.1 MB/s eta 0:00:01\n",
      "   -------------------------------- ------- 1.3/1.6 MB 2.3 MB/s eta 0:00:01\n",
      "   ---------------------------------------- 1.6/1.6 MB 2.2 MB/s eta 0:00:00\n",
      "Downloading certifi-2025.8.3-py3-none-any.whl (161 kB)\n",
      "Downloading frozendict-2.4.6-py311-none-any.whl (16 kB)\n",
      "Building wheels for collected packages: multitasking, peewee\n",
      "  Building wheel for multitasking (setup.py): started\n",
      "  Building wheel for multitasking (setup.py): finished with status 'done'\n",
      "  Created wheel for multitasking: filename=multitasking-0.0.12-py3-none-any.whl size=15617 sha256=889e7a6761d0ec3b6092967648be534fc3d0b476439d6a9e63c4c1093a28f8a3\n",
      "  Stored in directory: c:\\users\\amitk\\appdata\\local\\pip\\cache\\wheels\\42\\d6\\84\\bf57a755f4569494cd00de4bb46ef064874823f4d19c82e960\n",
      "  Building wheel for peewee (pyproject.toml): started\n",
      "  Building wheel for peewee (pyproject.toml): finished with status 'done'\n",
      "  Created wheel for peewee: filename=peewee-3.18.2-py3-none-any.whl size=139153 sha256=37f52ebf037ec2f000f53fe99650cf621adc7e9ddbafee7ddd40c49dc8743215\n",
      "  Stored in directory: c:\\users\\amitk\\appdata\\local\\pip\\cache\\wheels\\28\\84\\61\\758d1bd7b9c9d700158c8642a8aff2a9bf2e1ae69641c40784\n",
      "Successfully built multitasking peewee\n",
      "Installing collected packages: peewee, multitasking, frozendict, certifi, curl_cffi, yfinance\n",
      "\n",
      "   ---------------------------------------- 0/6 [peewee]\n",
      "   ---------------------------------------- 0/6 [peewee]\n",
      "   ---------------------------------------- 0/6 [peewee]\n",
      "   ------------- -------------------------- 2/6 [frozendict]\n",
      "  Attempting uninstall: certifi\n",
      "   ------------- -------------------------- 2/6 [frozendict]\n",
      "    Found existing installation: certifi 2023.7.22\n",
      "   ------------- -------------------------- 2/6 [frozendict]\n",
      "    Uninstalling certifi-2023.7.22:\n",
      "   ------------- -------------------------- 2/6 [frozendict]\n",
      "      Successfully uninstalled certifi-2023.7.22\n",
      "   ------------- -------------------------- 2/6 [frozendict]\n",
      "   -------------------------- ------------- 4/6 [curl_cffi]\n",
      "   -------------------------- ------------- 4/6 [curl_cffi]\n",
      "   -------------------------- ------------- 4/6 [curl_cffi]\n",
      "   --------------------------------- ------ 5/6 [yfinance]\n",
      "   --------------------------------- ------ 5/6 [yfinance]\n",
      "   --------------------------------- ------ 5/6 [yfinance]\n",
      "   --------------------------------- ------ 5/6 [yfinance]\n",
      "   --------------------------------- ------ 5/6 [yfinance]\n",
      "   --------------------------------- ------ 5/6 [yfinance]\n",
      "   ---------------------------------------- 6/6 [yfinance]\n",
      "\n",
      "Successfully installed certifi-2025.8.3 curl_cffi-0.13.0 frozendict-2.4.6 multitasking-0.0.12 peewee-3.18.2 yfinance-0.2.65\n",
      "Note: you may need to restart the kernel to use updated packages.\n"
     ]
    },
    {
     "name": "stderr",
     "output_type": "stream",
     "text": [
      "  DEPRECATION: Building 'multitasking' using the legacy setup.py bdist_wheel mechanism, which will be removed in a future version. pip 25.3 will enforce this behaviour change. A possible replacement is to use the standardized build interface by setting the `--use-pep517` option, (possibly combined with `--no-build-isolation`), or adding a `pyproject.toml` file to the source tree of 'multitasking'. Discussion can be found at https://github.com/pypa/pip/issues/6334\n",
      "ERROR: pip's dependency resolver does not currently take into account all the packages that are installed. This behaviour is the source of the following dependency conflicts.\n",
      "tensorflow-intel 2.17.0 requires ml-dtypes<0.5.0,>=0.3.1, but you have ml-dtypes 0.5.1 which is incompatible.\n",
      "tensorflow-intel 2.17.0 requires protobuf!=4.21.0,!=4.21.1,!=4.21.2,!=4.21.3,!=4.21.4,!=4.21.5,<5.0.0dev,>=3.20.3, but you have protobuf 5.29.5 which is incompatible.\n",
      "tensorflow-intel 2.17.0 requires tensorboard<2.18,>=2.17, but you have tensorboard 2.19.0 which is incompatible.\n",
      "\n",
      "[notice] A new release of pip is available: 25.1.1 -> 25.2\n",
      "[notice] To update, run: python.exe -m pip install --upgrade pip\n"
     ]
    }
   ],
   "source": [
    "%pip install yfinance"
   ]
  },
  {
   "cell_type": "code",
   "execution_count": 3,
   "id": "3b76a311",
   "metadata": {},
   "outputs": [],
   "source": [
    "import warnings\n",
    "warnings.filterwarnings('ignore')\n",
    "\n",
    "import numpy as np\n",
    "import pandas as pd\n",
    "import yfinance as yf\n",
    "import matplotlib.pyplot as plt\n",
    "from datetime import datetime, timedelta\n",
    "from scipy import stats\n",
    "from scipy.optimize import minimize\n",
    "from sklearn.ensemble import RandomForestRegressor, RandomForestClassifier\n",
    "from sklearn.model_selection import TimeSeriesSplit, cross_val_score\n",
    "from sklearn.preprocessing import StandardScaler\n",
    "from sklearn.metrics import mean_squared_error, r2_score, accuracy_score, confusion_matrix, classification_report"
   ]
  },
  {
   "cell_type": "markdown",
   "id": "cb1be922",
   "metadata": {},
   "source": [
    "show plots inline when running as notebook"
   ]
  },
  {
   "cell_type": "code",
   "execution_count": 4,
   "id": "de2577de",
   "metadata": {},
   "outputs": [],
   "source": [
    "plt.rcParams['figure.figsize'] = (10,6)"
   ]
  },
  {
   "cell_type": "markdown",
   "id": "32c9440b",
   "metadata": {},
   "source": [
    "Helper functions"
   ]
  },
  {
   "cell_type": "code",
   "execution_count": 5,
   "id": "1272cdda",
   "metadata": {},
   "outputs": [],
   "source": [
    "def download_price_data(tickers, start, end, interval='1d'):\n",
    "    data = yf.download(tickers, start=start, end=end, interval=interval, group_by='ticker', auto_adjust=True, progress=False)\n",
    "    # Return adjusted close in a DataFrame (columns = tickers)\n",
    "    if isinstance(tickers, list) and len(tickers) > 1:\n",
    "        adj = pd.DataFrame({t: data[t]['Close'] for t in tickers})\n",
    "    else:\n",
    "        # single ticker\n",
    "        if isinstance(tickers, list): t = tickers[0]\n",
    "        else: t = tickers\n",
    "        adj = pd.DataFrame({t: data['Close']})\n",
    "    return adj"
   ]
  },
  {
   "cell_type": "markdown",
   "id": "2d557ac7",
   "metadata": {},
   "source": [
    " # 1) Data Extraction & Collection\n",
    " - Real-time financial data extraction using Yahoo Finance (yfinance)\n",
    " - Financial statements and key metrics collection\n",
    " - Benchmark data (S&P 500)"
   ]
  },
  {
   "cell_type": "markdown",
   "id": "eed5a2f6",
   "metadata": {},
   "source": [
    "Data Extraction & Collection"
   ]
  },
  {
   "cell_type": "code",
   "execution_count": 6,
   "id": "d2d364bb",
   "metadata": {},
   "outputs": [
    {
     "data": {
      "text/html": [
       "<div>\n",
       "<style scoped>\n",
       "    .dataframe tbody tr th:only-of-type {\n",
       "        vertical-align: middle;\n",
       "    }\n",
       "\n",
       "    .dataframe tbody tr th {\n",
       "        vertical-align: top;\n",
       "    }\n",
       "\n",
       "    .dataframe thead th {\n",
       "        text-align: right;\n",
       "    }\n",
       "</style>\n",
       "<table border=\"1\" class=\"dataframe\">\n",
       "  <thead>\n",
       "    <tr style=\"text-align: right;\">\n",
       "      <th></th>\n",
       "      <th>AAPL</th>\n",
       "      <th>MSFT</th>\n",
       "      <th>GOOGL</th>\n",
       "      <th>AMZN</th>\n",
       "      <th>NVDA</th>\n",
       "      <th>^GSPC</th>\n",
       "    </tr>\n",
       "    <tr>\n",
       "      <th>Date</th>\n",
       "      <th></th>\n",
       "      <th></th>\n",
       "      <th></th>\n",
       "      <th></th>\n",
       "      <th></th>\n",
       "      <th></th>\n",
       "    </tr>\n",
       "  </thead>\n",
       "  <tbody>\n",
       "    <tr>\n",
       "      <th>2022-09-19</th>\n",
       "      <td>152.079361</td>\n",
       "      <td>238.584900</td>\n",
       "      <td>102.363991</td>\n",
       "      <td>124.660004</td>\n",
       "      <td>13.365941</td>\n",
       "      <td>3899.889893</td>\n",
       "    </tr>\n",
       "    <tr>\n",
       "      <th>2022-09-20</th>\n",
       "      <td>154.461731</td>\n",
       "      <td>236.565155</td>\n",
       "      <td>100.447205</td>\n",
       "      <td>122.190002</td>\n",
       "      <td>13.160191</td>\n",
       "      <td>3855.929932</td>\n",
       "    </tr>\n",
       "    <tr>\n",
       "      <th>2022-09-21</th>\n",
       "      <td>151.331161</td>\n",
       "      <td>233.150085</td>\n",
       "      <td>98.599945</td>\n",
       "      <td>118.540001</td>\n",
       "      <td>13.245088</td>\n",
       "      <td>3789.929932</td>\n",
       "    </tr>\n",
       "    <tr>\n",
       "      <th>2022-09-22</th>\n",
       "      <td>150.366379</td>\n",
       "      <td>235.130783</td>\n",
       "      <td>99.454056</td>\n",
       "      <td>117.309998</td>\n",
       "      <td>12.545926</td>\n",
       "      <td>3757.989990</td>\n",
       "    </tr>\n",
       "    <tr>\n",
       "      <th>2022-09-23</th>\n",
       "      <td>148.092270</td>\n",
       "      <td>232.145096</td>\n",
       "      <td>98.063652</td>\n",
       "      <td>113.779999</td>\n",
       "      <td>12.500980</td>\n",
       "      <td>3693.229980</td>\n",
       "    </tr>\n",
       "  </tbody>\n",
       "</table>\n",
       "</div>"
      ],
      "text/plain": [
       "                  AAPL        MSFT       GOOGL        AMZN       NVDA  \\\n",
       "Date                                                                    \n",
       "2022-09-19  152.079361  238.584900  102.363991  124.660004  13.365941   \n",
       "2022-09-20  154.461731  236.565155  100.447205  122.190002  13.160191   \n",
       "2022-09-21  151.331161  233.150085   98.599945  118.540001  13.245088   \n",
       "2022-09-22  150.366379  235.130783   99.454056  117.309998  12.545926   \n",
       "2022-09-23  148.092270  232.145096   98.063652  113.779999  12.500980   \n",
       "\n",
       "                  ^GSPC  \n",
       "Date                     \n",
       "2022-09-19  3899.889893  \n",
       "2022-09-20  3855.929932  \n",
       "2022-09-21  3789.929932  \n",
       "2022-09-22  3757.989990  \n",
       "2022-09-23  3693.229980  "
      ]
     },
     "execution_count": 6,
     "metadata": {},
     "output_type": "execute_result"
    }
   ],
   "source": [
    "TICKERS = ['AAPL', 'MSFT', 'GOOGL', 'AMZN', 'NVDA']  # example tech universe\n",
    "BENCHMARK = '^GSPC'  # S&P 500\n",
    "END = datetime.today().date()\n",
    "START = END - timedelta(days=365*3)  # 3 years history\n",
    "\n",
    "prices = download_price_data(TICKERS + [BENCHMARK], start=START, end=END)\n",
    "prices.head()"
   ]
  },
  {
   "cell_type": "markdown",
   "id": "7d210ba6",
   "metadata": {},
   "source": [
    "Fetch fundamentals & key metrics (using yfinance Ticker object)"
   ]
  },
  {
   "cell_type": "code",
   "execution_count": 7,
   "id": "e7fd352b",
   "metadata": {},
   "outputs": [
    {
     "data": {
      "text/html": [
       "<div>\n",
       "<style scoped>\n",
       "    .dataframe tbody tr th:only-of-type {\n",
       "        vertical-align: middle;\n",
       "    }\n",
       "\n",
       "    .dataframe tbody tr th {\n",
       "        vertical-align: top;\n",
       "    }\n",
       "\n",
       "    .dataframe thead th {\n",
       "        text-align: right;\n",
       "    }\n",
       "</style>\n",
       "<table border=\"1\" class=\"dataframe\">\n",
       "  <thead>\n",
       "    <tr style=\"text-align: right;\">\n",
       "      <th></th>\n",
       "      <th>marketCap</th>\n",
       "      <th>trailingPE</th>\n",
       "      <th>priceToBook</th>\n",
       "      <th>debtToEquity</th>\n",
       "      <th>returnOnEquity</th>\n",
       "      <th>beta</th>\n",
       "    </tr>\n",
       "  </thead>\n",
       "  <tbody>\n",
       "    <tr>\n",
       "      <th>AAPL</th>\n",
       "      <td>3.534241e+12</td>\n",
       "      <td>36.083332</td>\n",
       "      <td>53.746330</td>\n",
       "      <td>154.486</td>\n",
       "      <td>1.49814</td>\n",
       "      <td>1.109</td>\n",
       "    </tr>\n",
       "    <tr>\n",
       "      <th>MSFT</th>\n",
       "      <td>3.783781e+12</td>\n",
       "      <td>37.319650</td>\n",
       "      <td>11.017228</td>\n",
       "      <td>32.661</td>\n",
       "      <td>0.33281</td>\n",
       "      <td>1.040</td>\n",
       "    </tr>\n",
       "    <tr>\n",
       "      <th>GOOGL</th>\n",
       "      <td>3.038936e+12</td>\n",
       "      <td>26.804697</td>\n",
       "      <td>8.376747</td>\n",
       "      <td>11.481</td>\n",
       "      <td>0.34829</td>\n",
       "      <td>1.011</td>\n",
       "    </tr>\n",
       "    <tr>\n",
       "      <th>AMZN</th>\n",
       "      <td>2.496120e+12</td>\n",
       "      <td>35.732822</td>\n",
       "      <td>7.475009</td>\n",
       "      <td>47.808</td>\n",
       "      <td>0.24770</td>\n",
       "      <td>1.309</td>\n",
       "    </tr>\n",
       "    <tr>\n",
       "      <th>NVDA</th>\n",
       "      <td>4.257804e+12</td>\n",
       "      <td>49.681820</td>\n",
       "      <td>42.518845</td>\n",
       "      <td>10.584</td>\n",
       "      <td>1.09417</td>\n",
       "      <td>2.102</td>\n",
       "    </tr>\n",
       "  </tbody>\n",
       "</table>\n",
       "</div>"
      ],
      "text/plain": [
       "          marketCap  trailingPE  priceToBook  debtToEquity  returnOnEquity  \\\n",
       "AAPL   3.534241e+12   36.083332    53.746330       154.486         1.49814   \n",
       "MSFT   3.783781e+12   37.319650    11.017228        32.661         0.33281   \n",
       "GOOGL  3.038936e+12   26.804697     8.376747        11.481         0.34829   \n",
       "AMZN   2.496120e+12   35.732822     7.475009        47.808         0.24770   \n",
       "NVDA   4.257804e+12   49.681820    42.518845        10.584         1.09417   \n",
       "\n",
       "        beta  \n",
       "AAPL   1.109  \n",
       "MSFT   1.040  \n",
       "GOOGL  1.011  \n",
       "AMZN   1.309  \n",
       "NVDA   2.102  "
      ]
     },
     "execution_count": 7,
     "metadata": {},
     "output_type": "execute_result"
    }
   ],
   "source": [
    "fundamentals = {}\n",
    "for t in TICKERS:\n",
    "    tk = yf.Ticker(t)\n",
    "    info = tk.info\n",
    "    # select a subset of fields commonly used\n",
    "    fundamentals[t] = {\n",
    "        'marketCap': info.get('marketCap'),\n",
    "        'trailingPE': info.get('trailingPE'),\n",
    "        'priceToBook': info.get('priceToBook'),\n",
    "        'debtToEquity': info.get('debtToEquity'),\n",
    "        'returnOnEquity': info.get('returnOnEquity'),\n",
    "        'beta': info.get('beta')\n",
    "    }\n",
    "fund_df = pd.DataFrame(fundamentals).T\n",
    "fund_df"
   ]
  },
  {
   "cell_type": "markdown",
   "id": "e4801c09",
   "metadata": {},
   "source": [
    "# 2) Data Preprocessing & Feature Engineering\n",
    " - Technical indicators (RSI, Bollinger Bands, Moving Averages)\n",
    " - ML features: lagged returns, volatility measures\n",
    " - Normalization"
   ]
  },
  {
   "cell_type": "markdown",
   "id": "f54839b8",
   "metadata": {},
   "source": [
    "Preprocessing & Feature Engineering"
   ]
  },
  {
   "cell_type": "code",
   "execution_count": 8,
   "id": "63b353f8",
   "metadata": {},
   "outputs": [],
   "source": [
    "def compute_technical_indicators(df):\n",
    "    out = pd.DataFrame(index=df.index)\n",
    "    out['close'] = df\n",
    "    # returns\n",
    "    out['return'] = df.pct_change()\n",
    "    # moving averages\n",
    "    out['ma_20'] = df.rolling(20).mean()\n",
    "    out['ma_50'] = df.rolling(50).mean()\n",
    "    # Bollinger Bands\n",
    "    rolling_std = df.rolling(20).std()\n",
    "    out['bb_upper'] = out['ma_20'] + 2*rolling_std\n",
    "    out['bb_lower'] = out['ma_20'] - 2*rolling_std\n",
    "    # RSI\n",
    "    delta = df.diff()\n",
    "    up = delta.clip(lower=0)\n",
    "    down = -1*delta.clip(upper=0)\n",
    "    roll_up = up.ewm(span=14).mean()\n",
    "    roll_down = down.ewm(span=14).mean()\n",
    "    rs = roll_up / roll_down\n",
    "    out['rsi_14'] = 100.0 - (100.0 / (1.0 + rs))\n",
    "    # volatility (rolling)\n",
    "    out['vol_20'] = df.pct_change().rolling(20).std() * np.sqrt(252)\n",
    "    return out"
   ]
  },
  {
   "cell_type": "markdown",
   "id": "92597544",
   "metadata": {},
   "source": [
    "create features for each ticker and store"
   ]
  },
  {
   "cell_type": "code",
   "execution_count": 9,
   "id": "d273e8e6",
   "metadata": {},
   "outputs": [],
   "source": [
    "features = {}\n",
    "for t in TICKERS:\n",
    "    s = prices[t]\n",
    "    feats = compute_technical_indicators(s)\n",
    "    # lagged returns and momentum\n",
    "    feats['ret_1'] = feats['return'].shift(1)\n",
    "    feats['ret_5'] = feats['return'].shift(5)\n",
    "    feats['vol_5'] = s.pct_change().rolling(5).std()\n",
    "    features[t] = feats.dropna()\n"
   ]
  },
  {
   "cell_type": "markdown",
   "id": "9f2aff2d",
   "metadata": {},
   "source": [
    "Example: show features for AAPL"
   ]
  },
  {
   "cell_type": "code",
   "execution_count": 10,
   "id": "9d3b7c36",
   "metadata": {},
   "outputs": [
    {
     "data": {
      "text/html": [
       "<div>\n",
       "<style scoped>\n",
       "    .dataframe tbody tr th:only-of-type {\n",
       "        vertical-align: middle;\n",
       "    }\n",
       "\n",
       "    .dataframe tbody tr th {\n",
       "        vertical-align: top;\n",
       "    }\n",
       "\n",
       "    .dataframe thead th {\n",
       "        text-align: right;\n",
       "    }\n",
       "</style>\n",
       "<table border=\"1\" class=\"dataframe\">\n",
       "  <thead>\n",
       "    <tr style=\"text-align: right;\">\n",
       "      <th></th>\n",
       "      <th>close</th>\n",
       "      <th>return</th>\n",
       "      <th>ma_20</th>\n",
       "      <th>ma_50</th>\n",
       "      <th>bb_upper</th>\n",
       "      <th>bb_lower</th>\n",
       "      <th>rsi_14</th>\n",
       "      <th>vol_20</th>\n",
       "      <th>ret_1</th>\n",
       "      <th>ret_5</th>\n",
       "      <th>vol_5</th>\n",
       "    </tr>\n",
       "    <tr>\n",
       "      <th>Date</th>\n",
       "      <th></th>\n",
       "      <th></th>\n",
       "      <th></th>\n",
       "      <th></th>\n",
       "      <th></th>\n",
       "      <th></th>\n",
       "      <th></th>\n",
       "      <th></th>\n",
       "      <th></th>\n",
       "      <th></th>\n",
       "      <th></th>\n",
       "    </tr>\n",
       "  </thead>\n",
       "  <tbody>\n",
       "    <tr>\n",
       "      <th>2025-09-08</th>\n",
       "      <td>237.880005</td>\n",
       "      <td>-0.007551</td>\n",
       "      <td>231.592499</td>\n",
       "      <td>219.007781</td>\n",
       "      <td>240.419802</td>\n",
       "      <td>222.765195</td>\n",
       "      <td>67.376142</td>\n",
       "      <td>0.194082</td>\n",
       "      <td>-0.000375</td>\n",
       "      <td>-0.001806</td>\n",
       "      <td>0.019491</td>\n",
       "    </tr>\n",
       "    <tr>\n",
       "      <th>2025-09-09</th>\n",
       "      <td>234.350006</td>\n",
       "      <td>-0.014839</td>\n",
       "      <td>231.950999</td>\n",
       "      <td>219.677740</td>\n",
       "      <td>240.604436</td>\n",
       "      <td>223.297563</td>\n",
       "      <td>54.196790</td>\n",
       "      <td>0.199939</td>\n",
       "      <td>-0.007551</td>\n",
       "      <td>-0.010425</td>\n",
       "      <td>0.020443</td>\n",
       "    </tr>\n",
       "    <tr>\n",
       "      <th>2025-09-10</th>\n",
       "      <td>226.789993</td>\n",
       "      <td>-0.032259</td>\n",
       "      <td>231.807999</td>\n",
       "      <td>220.114792</td>\n",
       "      <td>240.712424</td>\n",
       "      <td>222.903575</td>\n",
       "      <td>36.536146</td>\n",
       "      <td>0.229872</td>\n",
       "      <td>-0.014839</td>\n",
       "      <td>0.038090</td>\n",
       "      <td>0.014642</td>\n",
       "    </tr>\n",
       "    <tr>\n",
       "      <th>2025-09-11</th>\n",
       "      <td>230.029999</td>\n",
       "      <td>0.014286</td>\n",
       "      <td>231.642999</td>\n",
       "      <td>220.563703</td>\n",
       "      <td>240.550973</td>\n",
       "      <td>222.735026</td>\n",
       "      <td>45.343508</td>\n",
       "      <td>0.228289</td>\n",
       "      <td>-0.032259</td>\n",
       "      <td>0.005493</td>\n",
       "      <td>0.017250</td>\n",
       "    </tr>\n",
       "    <tr>\n",
       "      <th>2025-09-12</th>\n",
       "      <td>234.070007</td>\n",
       "      <td>0.017563</td>\n",
       "      <td>231.707500</td>\n",
       "      <td>221.001120</td>\n",
       "      <td>240.668660</td>\n",
       "      <td>222.746340</td>\n",
       "      <td>54.440238</td>\n",
       "      <td>0.237054</td>\n",
       "      <td>0.014286</td>\n",
       "      <td>-0.000375</td>\n",
       "      <td>0.020776</td>\n",
       "    </tr>\n",
       "  </tbody>\n",
       "</table>\n",
       "</div>"
      ],
      "text/plain": [
       "                 close    return       ma_20       ma_50    bb_upper  \\\n",
       "Date                                                                   \n",
       "2025-09-08  237.880005 -0.007551  231.592499  219.007781  240.419802   \n",
       "2025-09-09  234.350006 -0.014839  231.950999  219.677740  240.604436   \n",
       "2025-09-10  226.789993 -0.032259  231.807999  220.114792  240.712424   \n",
       "2025-09-11  230.029999  0.014286  231.642999  220.563703  240.550973   \n",
       "2025-09-12  234.070007  0.017563  231.707500  221.001120  240.668660   \n",
       "\n",
       "              bb_lower     rsi_14    vol_20     ret_1     ret_5     vol_5  \n",
       "Date                                                                       \n",
       "2025-09-08  222.765195  67.376142  0.194082 -0.000375 -0.001806  0.019491  \n",
       "2025-09-09  223.297563  54.196790  0.199939 -0.007551 -0.010425  0.020443  \n",
       "2025-09-10  222.903575  36.536146  0.229872 -0.014839  0.038090  0.014642  \n",
       "2025-09-11  222.735026  45.343508  0.228289 -0.032259  0.005493  0.017250  \n",
       "2025-09-12  222.746340  54.440238  0.237054  0.014286 -0.000375  0.020776  "
      ]
     },
     "execution_count": 10,
     "metadata": {},
     "output_type": "execute_result"
    }
   ],
   "source": [
    "features['AAPL'].tail()"
   ]
  },
  {
   "cell_type": "markdown",
   "id": "57eead9a",
   "metadata": {},
   "source": [
    "# 3) Exploratory Data Analysis (EDA)\n",
    "- Price performance visualizations\n",
    "- Risk-return profile and correlations\n"
   ]
  },
  {
   "cell_type": "markdown",
   "id": "902d4bce",
   "metadata": {},
   "source": [
    "Price chart for tickers"
   ]
  },
  {
   "cell_type": "code",
   "execution_count": 11,
   "id": "8dbb0baf",
   "metadata": {},
   "outputs": [
    {
     "data": {
      "image/png": "[encoded data removed]",
      "text/plain": [
       "<Figure size 1000x600 with 1 Axes>"
      ]
     },
     "metadata": {},
     "output_type": "display_data"
    }
   ],
   "source": [
    "prices[TICKERS].plot(subplots=False, title='Price performance');"
   ]
  },
  {
   "cell_type": "markdown",
   "id": "57cce982",
   "metadata": {},
   "source": [
    "compute daily returns and show risk-return"
   ]
  },
  {
   "cell_type": "code",
   "execution_count": 12,
   "id": "a1ef9526",
   "metadata": {},
   "outputs": [
    {
     "data": {
      "text/html": [
       "<div>\n",
       "<style scoped>\n",
       "    .dataframe tbody tr th:only-of-type {\n",
       "        vertical-align: middle;\n",
       "    }\n",
       "\n",
       "    .dataframe tbody tr th {\n",
       "        vertical-align: top;\n",
       "    }\n",
       "\n",
       "    .dataframe thead th {\n",
       "        text-align: right;\n",
       "    }\n",
       "</style>\n",
       "<table border=\"1\" class=\"dataframe\">\n",
       "  <thead>\n",
       "    <tr style=\"text-align: right;\">\n",
       "      <th></th>\n",
       "      <th>ann_return</th>\n",
       "      <th>ann_vol</th>\n",
       "    </tr>\n",
       "  </thead>\n",
       "  <tbody>\n",
       "    <tr>\n",
       "      <th>AAPL</th>\n",
       "      <td>0.189193</td>\n",
       "      <td>0.278694</td>\n",
       "    </tr>\n",
       "    <tr>\n",
       "      <th>MSFT</th>\n",
       "      <td>0.287000</td>\n",
       "      <td>0.254794</td>\n",
       "    </tr>\n",
       "    <tr>\n",
       "      <th>GOOGL</th>\n",
       "      <td>0.351495</td>\n",
       "      <td>0.315673</td>\n",
       "    </tr>\n",
       "    <tr>\n",
       "      <th>AMZN</th>\n",
       "      <td>0.268975</td>\n",
       "      <td>0.339215</td>\n",
       "    </tr>\n",
       "    <tr>\n",
       "      <th>NVDA</th>\n",
       "      <td>0.999987</td>\n",
       "      <td>0.523308</td>\n",
       "    </tr>\n",
       "  </tbody>\n",
       "</table>\n",
       "</div>"
      ],
      "text/plain": [
       "       ann_return   ann_vol\n",
       "AAPL     0.189193  0.278694\n",
       "MSFT     0.287000  0.254794\n",
       "GOOGL    0.351495  0.315673\n",
       "AMZN     0.268975  0.339215\n",
       "NVDA     0.999987  0.523308"
      ]
     },
     "execution_count": 12,
     "metadata": {},
     "output_type": "execute_result"
    }
   ],
   "source": [
    "returns = prices[TICKERS].pct_change().dropna()\n",
    "mean_returns = returns.mean()*252\n",
    "volatility = returns.std()*np.sqrt(252)\n",
    "rr = pd.DataFrame({'ann_return': mean_returns, 'ann_vol': volatility})\n",
    "rr"
   ]
  },
  {
   "cell_type": "markdown",
   "id": "e58034e6",
   "metadata": {},
   "source": [
    "scatter risk-return"
   ]
  },
  {
   "cell_type": "code",
   "execution_count": 13,
   "id": "990efdbf",
   "metadata": {},
   "outputs": [
    {
     "data": {
      "text/plain": [
       "Text(0.5, 1.0, 'Risk-Return')"
      ]
     },
     "execution_count": 13,
     "metadata": {},
     "output_type": "execute_result"
    },
    {
     "data": {
      "image/png": "[encoded data removed]",
      "text/plain": [
       "<Figure size 1000x600 with 1 Axes>"
      ]
     },
     "metadata": {},
     "output_type": "display_data"
    }
   ],
   "source": [
    "plt.figure();\n",
    "plt.scatter(rr['ann_vol'], rr['ann_return'])\n",
    "for i, txt in enumerate(rr.index):\n",
    "    plt.annotate(txt, (rr['ann_vol'][i], rr['ann_return'][i]))\n",
    "plt.xlabel('Annualized Volatility'); plt.ylabel('Annualized Return'); plt.title('Risk-Return')"
   ]
  },
  {
   "cell_type": "markdown",
   "id": "6b2ada7d",
   "metadata": {},
   "source": [
    "Correlation heatmap"
   ]
  },
  {
   "cell_type": "code",
   "execution_count": 14,
   "id": "061864b3",
   "metadata": {},
   "outputs": [
    {
     "data": {
      "text/plain": [
       "Text(0.5, 1.0, 'Return Correlation Matrix')"
      ]
     },
     "execution_count": 14,
     "metadata": {},
     "output_type": "execute_result"
    },
    {
     "data": {
      "image/png": "[encoded data removed]",
      "text/plain": [
       "<Figure size 1000x600 with 2 Axes>"
      ]
     },
     "metadata": {},
     "output_type": "display_data"
    }
   ],
   "source": [
    "corr = returns.corr()\n",
    "plt.figure();\n",
    "plt.imshow(corr, interpolation='none'); plt.colorbar();\n",
    "plt.xticks(range(len(corr)), corr.columns, rotation=90); plt.yticks(range(len(corr)), corr.columns);\n",
    "plt.title('Return Correlation Matrix')"
   ]
  },
  {
   "cell_type": "markdown",
   "id": "55bf4acc",
   "metadata": {},
   "source": [
    "# 4) Fundamental Analysis\n",
    "- Extract P/E, P/B, ROE, ROA, Debt/Equity\n",
    "- Build simple financial health score"
   ]
  },
  {
   "cell_type": "markdown",
   "id": "62601452",
   "metadata": {},
   "source": [
    "Fundamental Analysis"
   ]
  },
  {
   "cell_type": "code",
   "execution_count": 15,
   "id": "959ecf43",
   "metadata": {},
   "outputs": [
    {
     "data": {
      "text/html": [
       "<div>\n",
       "<style scoped>\n",
       "    .dataframe tbody tr th:only-of-type {\n",
       "        vertical-align: middle;\n",
       "    }\n",
       "\n",
       "    .dataframe tbody tr th {\n",
       "        vertical-align: top;\n",
       "    }\n",
       "\n",
       "    .dataframe thead th {\n",
       "        text-align: right;\n",
       "    }\n",
       "</style>\n",
       "<table border=\"1\" class=\"dataframe\">\n",
       "  <thead>\n",
       "    <tr style=\"text-align: right;\">\n",
       "      <th></th>\n",
       "      <th>marketCap</th>\n",
       "      <th>trailingPE</th>\n",
       "      <th>priceToBook</th>\n",
       "      <th>debtToEquity</th>\n",
       "      <th>returnOnEquity</th>\n",
       "      <th>beta</th>\n",
       "      <th>health_score</th>\n",
       "    </tr>\n",
       "  </thead>\n",
       "  <tbody>\n",
       "    <tr>\n",
       "      <th>GOOGL</th>\n",
       "      <td>3.038936e+12</td>\n",
       "      <td>26.804697</td>\n",
       "      <td>8.376747</td>\n",
       "      <td>11.481</td>\n",
       "      <td>0.34829</td>\n",
       "      <td>1.011</td>\n",
       "      <td>3.023055</td>\n",
       "    </tr>\n",
       "    <tr>\n",
       "      <th>AMZN</th>\n",
       "      <td>2.496120e+12</td>\n",
       "      <td>35.732822</td>\n",
       "      <td>7.475009</td>\n",
       "      <td>47.808</td>\n",
       "      <td>0.24770</td>\n",
       "      <td>1.309</td>\n",
       "      <td>1.262804</td>\n",
       "    </tr>\n",
       "    <tr>\n",
       "      <th>MSFT</th>\n",
       "      <td>3.783781e+12</td>\n",
       "      <td>37.319650</td>\n",
       "      <td>11.017228</td>\n",
       "      <td>32.661</td>\n",
       "      <td>0.33281</td>\n",
       "      <td>1.040</td>\n",
       "      <td>1.245514</td>\n",
       "    </tr>\n",
       "    <tr>\n",
       "      <th>NVDA</th>\n",
       "      <td>4.257804e+12</td>\n",
       "      <td>49.681820</td>\n",
       "      <td>42.518845</td>\n",
       "      <td>10.584</td>\n",
       "      <td>1.09417</td>\n",
       "      <td>2.102</td>\n",
       "      <td>-0.576686</td>\n",
       "    </tr>\n",
       "    <tr>\n",
       "      <th>AAPL</th>\n",
       "      <td>3.534241e+12</td>\n",
       "      <td>36.083332</td>\n",
       "      <td>53.746330</td>\n",
       "      <td>154.486</td>\n",
       "      <td>1.49814</td>\n",
       "      <td>1.109</td>\n",
       "      <td>-1.433577</td>\n",
       "    </tr>\n",
       "  </tbody>\n",
       "</table>\n",
       "</div>"
      ],
      "text/plain": [
       "          marketCap  trailingPE  priceToBook  debtToEquity  returnOnEquity  \\\n",
       "GOOGL  3.038936e+12   26.804697     8.376747        11.481         0.34829   \n",
       "AMZN   2.496120e+12   35.732822     7.475009        47.808         0.24770   \n",
       "MSFT   3.783781e+12   37.319650    11.017228        32.661         0.33281   \n",
       "NVDA   4.257804e+12   49.681820    42.518845        10.584         1.09417   \n",
       "AAPL   3.534241e+12   36.083332    53.746330       154.486         1.49814   \n",
       "\n",
       "        beta  health_score  \n",
       "GOOGL  1.011      3.023055  \n",
       "AMZN   1.309      1.262804  \n",
       "MSFT   1.040      1.245514  \n",
       "NVDA   2.102     -0.576686  \n",
       "AAPL   1.109     -1.433577  "
      ]
     },
     "execution_count": 15,
     "metadata": {},
     "output_type": "execute_result"
    }
   ],
   "source": [
    "fund_df['pe_z'] = (fund_df['trailingPE'] - fund_df['trailingPE'].mean()) / fund_df['trailingPE'].std()\n",
    "fund_df['pb_z'] = (fund_df['priceToBook'] - fund_df['priceToBook'].mean()) / fund_df['priceToBook'].std()\n",
    "fund_df['de_z'] = (fund_df['debtToEquity'] - fund_df['debtToEquity'].mean()) / fund_df['debtToEquity'].std()\n",
    "# simple score: lower PE/PB + lower DE + higher ROE => better\n",
    "fund_df['health_score'] = (-fund_df['pe_z'] - fund_df['pb_z'] - fund_df['de_z'] + (fund_df['returnOnEquity'].fillna(0)))\n",
    "fund_df = fund_df.sort_values('health_score', ascending=False)\n",
    "fund_df[['marketCap','trailingPE','priceToBook','debtToEquity','returnOnEquity','beta','health_score']]"
   ]
  },
  {
   "cell_type": "markdown",
   "id": "76bc4a00",
   "metadata": {},
   "source": [
    "# 5) Risk Analysis & Portfolio Optimization\n",
    " - MPT: estimate efficient frontier (simplified)\n",
    " - VaR & CVaR\n",
    " - Beta and CAPM"
   ]
  },
  {
   "cell_type": "markdown",
   "id": "ad294c9d",
   "metadata": {},
   "source": [
    "compute covariance and expected returns"
   ]
  },
  {
   "cell_type": "code",
   "execution_count": 16,
   "id": "3a315cef",
   "metadata": {},
   "outputs": [],
   "source": [
    "mu = returns.mean() * 252\n",
    "Sigma = returns.cov() * 252"
   ]
  },
  {
   "cell_type": "markdown",
   "id": "d41f4f97",
   "metadata": {},
   "source": [
    "functions for portfolio performance"
   ]
  },
  {
   "cell_type": "code",
   "execution_count": 17,
   "id": "0746aead",
   "metadata": {},
   "outputs": [],
   "source": [
    "def portfolio_perf(weights, mu, Sigma):\n",
    "    w = np.array(weights)\n",
    "    ret = np.dot(w, mu)\n",
    "    vol = np.sqrt(np.dot(w.T, np.dot(Sigma, w)))\n",
    "    sharpe = ret / vol if vol>0 else 0\n",
    "    return ret, vol, sharpe"
   ]
  },
  {
   "cell_type": "markdown",
   "id": "3f1ca4f1",
   "metadata": {},
   "source": [
    "objective: maximize sharpe (minimize negative sharpe)"
   ]
  },
  {
   "cell_type": "code",
   "execution_count": 18,
   "id": "84d0fc96",
   "metadata": {},
   "outputs": [],
   "source": [
    "def neg_sharpe(weights, mu, Sigma):\n",
    "    return -portfolio_perf(weights, mu, Sigma)[2]"
   ]
  },
  {
   "cell_type": "markdown",
   "id": "481298a2",
   "metadata": {},
   "source": [
    "constraints"
   ]
  },
  {
   "cell_type": "code",
   "execution_count": 19,
   "id": "6db60575",
   "metadata": {},
   "outputs": [
    {
     "data": {
      "text/plain": [
       "AAPL     0.000000e+00\n",
       "MSFT     0.000000e+00\n",
       "GOOGL    2.337085e-01\n",
       "AMZN     1.281801e-17\n",
       "NVDA     7.662915e-01\n",
       "dtype: float64"
      ]
     },
     "execution_count": 19,
     "metadata": {},
     "output_type": "execute_result"
    }
   ],
   "source": [
    "n = len(TICKERS)\n",
    "bounds = tuple((0,1) for _ in range(n))\n",
    "cons = ({'type':'eq','fun': lambda x: np.sum(x)-1})\n",
    "init = np.array([1/n]*n)\n",
    "\n",
    "res = minimize(neg_sharpe, init, args=(mu, Sigma), method='SLSQP', bounds=bounds, constraints=cons)\n",
    "opt_weights = pd.Series(res.x, index=TICKERS)\n",
    "opt_weights"
   ]
  },
  {
   "cell_type": "markdown",
   "id": "f78f0334",
   "metadata": {},
   "source": [
    "VaR (historical) for portfolio"
   ]
  },
  {
   "cell_type": "code",
   "execution_count": 20,
   "id": "17f25244",
   "metadata": {},
   "outputs": [
    {
     "data": {
      "text/plain": [
       "(-0.038365387462335754, -0.055810950622868734)"
      ]
     },
     "execution_count": 20,
     "metadata": {},
     "output_type": "execute_result"
    }
   ],
   "source": [
    "port_returns = returns.dot(opt_weights)\n",
    "var_95 = np.percentile(port_returns.dropna(), 5)\n",
    "cvar_95 = port_returns[port_returns <= var_95].mean()\n",
    "var_95, cvar_95"
   ]
  },
  {
   "cell_type": "markdown",
   "id": "9847c2b6",
   "metadata": {},
   "source": [
    "Beta against S&P 500"
   ]
  },
  {
   "cell_type": "code",
   "execution_count": 21,
   "id": "fe4d9f54",
   "metadata": {},
   "outputs": [
    {
     "data": {
      "text/plain": [
       "AAPL     1.238342\n",
       "MSFT     1.129427\n",
       "GOOGL    1.204948\n",
       "AMZN     1.455598\n",
       "NVDA     2.133619\n",
       "dtype: float64"
      ]
     },
     "execution_count": 21,
     "metadata": {},
     "output_type": "execute_result"
    }
   ],
   "source": [
    "bench_returns = prices[BENCHMARK].pct_change().dropna()\n",
    "betas = {}\n",
    "for t in TICKERS:\n",
    "    joined = pd.concat([returns[t], bench_returns], axis=1).dropna()\n",
    "    slope, intercept, r_value, p_value, std_err = stats.linregress(joined.iloc[:,1], joined.iloc[:,0])\n",
    "    betas[t] = slope\n",
    "pd.Series(betas)"
   ]
  },
  {
   "cell_type": "markdown",
   "id": "4ea7eede",
   "metadata": {},
   "source": [
    "# 6) Machine Learning Models\n",
    "- Train models for next-day return prediction (regression) and direction (classification)\n",
    "- Compare models"
   ]
  },
  {
   "cell_type": "markdown",
   "id": "a091ada1",
   "metadata": {},
   "source": [
    "Machine Learning Models (example: predict sign of next-day return for AAPL)"
   ]
  },
  {
   "cell_type": "code",
   "execution_count": 22,
   "id": "842a1cd6",
   "metadata": {},
   "outputs": [],
   "source": [
    "sym = 'AAPL'\n",
    "df = features[sym].copy()\n",
    "# label: next day return sign\n",
    "df['target_ret'] = df['return'].shift(-1)\n",
    "df['target_sign'] = (df['target_ret'] > 0).astype(int)\n",
    "df = df.dropna()\n",
    "\n",
    "X = df[['ma_20','ma_50','bb_upper','bb_lower','rsi_14','vol_20','ret_1','ret_5','vol_5']]\n",
    "y_reg = df['target_ret']\n",
    "y_clf = df['target_sign']"
   ]
  },
  {
   "cell_type": "code",
   "execution_count": 23,
   "id": "6c5267b9",
   "metadata": {},
   "outputs": [
    {
     "data": {
      "text/plain": [
       "vol_5       0.130496\n",
       "ret_5       0.129720\n",
       "rsi_14      0.114771\n",
       "ret_1       0.114384\n",
       "vol_20      0.110167\n",
       "bb_lower    0.102930\n",
       "bb_upper    0.099316\n",
       "ma_50       0.099288\n",
       "ma_20       0.098928\n",
       "dtype: float64"
      ]
     },
     "execution_count": 23,
     "metadata": {},
     "output_type": "execute_result"
    }
   ],
   "source": [
    "# scale features\n",
    "scaler = StandardScaler()\n",
    "Xs = scaler.fit_transform(X)\n",
    "\n",
    "# time series split\n",
    "tscv = TimeSeriesSplit(n_splits=5)\n",
    "\n",
    "# regression\n",
    "rf_reg = RandomForestRegressor(n_estimators=100, random_state=42)\n",
    "reg_scores = cross_val_score(rf_reg, Xs, y_reg, scoring='neg_mean_squared_error', cv=tscv)\n",
    "np.sqrt(-reg_scores)\n",
    "\n",
    "# classification\n",
    "rf_clf = RandomForestClassifier(n_estimators=100, random_state=42)\n",
    "clf_scores = cross_val_score(rf_clf, Xs, y_clf, scoring='accuracy', cv=tscv)\n",
    "clf_scores\n",
    "\n",
    "# train final classifier and feature importance\n",
    "rf_clf.fit(Xs, y_clf)\n",
    "importances = pd.Series(rf_clf.feature_importances_, index=X.columns).sort_values(ascending=False)\n",
    "importances\n"
   ]
  },
  {
   "cell_type": "markdown",
   "id": "307ad9b7",
   "metadata": {},
   "source": [
    "# 7) Investment Recommendation System\n",
    " - Combine multi-factor scoring: valuation, growth (ROE), risk (beta), momentum (past returns)\n",
    " - Produce buy/sell/hold"
   ]
  },
  {
   "cell_type": "markdown",
   "id": "645d4818",
   "metadata": {},
   "source": [
    "Investment Recommendation System"
   ]
  },
  {
   "cell_type": "code",
   "execution_count": 24,
   "id": "94b56c69",
   "metadata": {},
   "outputs": [
    {
     "data": {
      "text/html": [
       "<div>\n",
       "<style scoped>\n",
       "    .dataframe tbody tr th:only-of-type {\n",
       "        vertical-align: middle;\n",
       "    }\n",
       "\n",
       "    .dataframe tbody tr th {\n",
       "        vertical-align: top;\n",
       "    }\n",
       "\n",
       "    .dataframe thead th {\n",
       "        text-align: right;\n",
       "    }\n",
       "</style>\n",
       "<table border=\"1\" class=\"dataframe\">\n",
       "  <thead>\n",
       "    <tr style=\"text-align: right;\">\n",
       "      <th></th>\n",
       "      <th>composite</th>\n",
       "      <th>recommendation</th>\n",
       "    </tr>\n",
       "  </thead>\n",
       "  <tbody>\n",
       "    <tr>\n",
       "      <th>GOOGL</th>\n",
       "      <td>3.327053</td>\n",
       "      <td>buy</td>\n",
       "    </tr>\n",
       "    <tr>\n",
       "      <th>MSFT</th>\n",
       "      <td>0.194995</td>\n",
       "      <td>hold</td>\n",
       "    </tr>\n",
       "    <tr>\n",
       "      <th>AMZN</th>\n",
       "      <td>-0.297915</td>\n",
       "      <td>hold</td>\n",
       "    </tr>\n",
       "    <tr>\n",
       "      <th>AAPL</th>\n",
       "      <td>-1.425799</td>\n",
       "      <td>hold</td>\n",
       "    </tr>\n",
       "    <tr>\n",
       "      <th>NVDA</th>\n",
       "      <td>-1.798334</td>\n",
       "      <td>sell</td>\n",
       "    </tr>\n",
       "  </tbody>\n",
       "</table>\n",
       "</div>"
      ],
      "text/plain": [
       "       composite recommendation\n",
       "GOOGL   3.327053            buy\n",
       "MSFT    0.194995           hold\n",
       "AMZN   -0.297915           hold\n",
       "AAPL   -1.425799           hold\n",
       "NVDA   -1.798334           sell"
      ]
     },
     "execution_count": 24,
     "metadata": {},
     "output_type": "execute_result"
    }
   ],
   "source": [
    "momentum = (prices[TICKERS].pct_change(90).iloc[-1])  # 3-month momentum\n",
    "score_df = pd.DataFrame(index=TICKERS)\n",
    "score_df['health_score'] = fund_df['health_score']\n",
    "score_df['beta'] = pd.Series(betas)\n",
    "score_df['momentum_90'] = momentum\n",
    "# normalize each feature\n",
    "for col in score_df.columns:\n",
    "    score_df[col + '_z'] = (score_df[col] - score_df[col].mean())/score_df[col].std()\n",
    "# higher health_score_z and momentum positive, lower beta is better\n",
    "score_df['composite'] = score_df['health_score_z'] + score_df['momentum_90_z'] - score_df['beta_z']\n",
    "score_df = score_df.sort_values('composite', ascending=False)\n",
    "\n",
    "# simple rule: top 20% -> buy, middle 60% -> hold, bottom 20% -> sell\n",
    "n = len(score_df)\n",
    "buy_cut = int(0.2*n) if n>5 else 1\n",
    "sell_cut = int(0.2*n)\n",
    "score_df['recommendation'] = 'hold'\n",
    "score_df.iloc[:buy_cut, score_df.columns.get_loc('recommendation')] = 'buy'\n",
    "score_df.iloc[-sell_cut:, score_df.columns.get_loc('recommendation')] = 'sell'\n",
    "score_df[['composite','recommendation']]"
   ]
  },
  {
   "cell_type": "markdown",
   "id": "ec61afb3",
   "metadata": {},
   "source": [
    "# 8) Portfolio Backtesting\n",
    " - Backtest optimized portfolio vs benchmark"
   ]
  },
  {
   "cell_type": "markdown",
   "id": "4534cd7b",
   "metadata": {},
   "source": [
    "Backtesting"
   ]
  },
  {
   "cell_type": "code",
   "execution_count": 25,
   "id": "b51777bc",
   "metadata": {},
   "outputs": [
    {
     "data": {
      "text/plain": [
       "{'portfolio_cagr': 0.7869152640017019,\n",
       " 'benchmark_cagr': 0.1934936871704438,\n",
       " 'portfolio_sharpe': 1.4312045323751506,\n",
       " 'portfolio_max_drawdown': -0.33756683612839394}"
      ]
     },
     "execution_count": 25,
     "metadata": {},
     "output_type": "execute_result"
    },
    {
     "data": {
      "image/png": "[encoded data removed]",
      "text/plain": [
       "<Figure size 1000x600 with 1 Axes>"
      ]
     },
     "metadata": {},
     "output_type": "display_data"
    }
   ],
   "source": [
    "weights = opt_weights\n",
    "portfolio_price = (prices[TICKERS] * weights).sum(axis=1)\n",
    "portfolio_returns = portfolio_price.pct_change().fillna(0)\n",
    "portfolio_cum = (1+portfolio_returns).cumprod()\n",
    "benchmark_cum = (1 + prices[BENCHMARK].pct_change().fillna(0)).cumprod()\n",
    "\n",
    "plt.figure();\n",
    "plt.plot(portfolio_cum.index, portfolio_cum, label='Portfolio')\n",
    "plt.plot(benchmark_cum.index, benchmark_cum, label='S&P 500')\n",
    "plt.legend(); plt.title('Backtest: Portfolio vs Benchmark')\n",
    "\n",
    "# drawdown\n",
    "running_max = portfolio_cum.cummax()\n",
    "drawdown = (portfolio_cum - running_max) / running_max\n",
    "max_drawdown = drawdown.min()\n",
    "max_drawdown\n",
    "\n",
    "# performance summary\n",
    "perf = {\n",
    "    'portfolio_cagr': (portfolio_cum.iloc[-1])**(252/len(portfolio_cum)) - 1,\n",
    "    'benchmark_cagr': (benchmark_cum.iloc[-1])**(252/len(benchmark_cum)) - 1,\n",
    "    'portfolio_sharpe': portfolio_returns.mean()/portfolio_returns.std()*np.sqrt(252),\n",
    "    'portfolio_max_drawdown': max_drawdown\n",
    "}\n",
    "perf"
   ]
  },
  {
   "cell_type": "markdown",
   "id": "09b2475b",
   "metadata": {},
   "source": [
    "# 9) Executive Summary & Reporting\n",
    "- Produce a concise markdown report and save key tables as CSV"
   ]
  },
  {
   "cell_type": "markdown",
   "id": "42a4b50b",
   "metadata": {},
   "source": [
    "Executive Summary & Reporting"
   ]
  },
  {
   "cell_type": "code",
   "execution_count": 26,
   "id": "dca2617d",
   "metadata": {},
   "outputs": [
    {
     "name": "stdout",
     "output_type": "stream",
     "text": [
      "Executive Summary (dict):\n",
      "date : 2025-09-17\n",
      "universe : ['AAPL', 'MSFT', 'GOOGL', 'AMZN', 'NVDA']\n",
      "opt_weights : {'AAPL': 0.0, 'MSFT': 0.0, 'GOOGL': 0.23370851763340414, 'AMZN': 1.281801182667147e-17, 'NVDA': 0.7662914823665958}\n",
      "top_recommendations : ['GOOGL']\n",
      "portfolio_performance : {'portfolio_cagr': 0.7869152640017019, 'benchmark_cagr': 0.1934936871704438, 'portfolio_sharpe': 1.4312045323751506, 'portfolio_max_drawdown': -0.33756683612839394}\n"
     ]
    }
   ],
   "source": [
    "report = {\n",
    "    'date': str(datetime.today().date()),\n",
    "    'universe': TICKERS,\n",
    "    'opt_weights': opt_weights.to_dict(),\n",
    "    'top_recommendations': score_df[score_df['recommendation']=='buy'].index.tolist(),\n",
    "    'portfolio_performance': perf\n",
    "}\n",
    "\n",
    "# save outputs\n",
    "fund_df.to_csv('fundamentals_summary.csv')\n",
    "score_df.to_csv('recommendation_scores.csv')\n",
    "opt_weights.to_csv('optimal_weights.csv')\n",
    "\n",
    "# Print brief summary\n",
    "print('Executive Summary (dict):')\n",
    "for k,v in report.items():\n",
    "    print(k, ':', v)"
   ]
  }
 ],
 "metadata": {
  "kernelspec": {
   "display_name": "Python 3",
   "language": "python",
   "name": "python3"
  },
  "language_info": {
   "codemirror_mode": {
    "name": "ipython",
    "version": 3
   },
   "file_extension": ".py",
   "mimetype": "text/x-python",
   "name": "python",
   "nbconvert_exporter": "python",
   "pygments_lexer": "ipython3",
   "version": "3.11.3"
  }
 },
 "nbformat": 4,
 "nbformat_minor": 5
}
